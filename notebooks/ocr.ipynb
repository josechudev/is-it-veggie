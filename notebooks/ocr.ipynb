{
  "nbformat": 4,
  "nbformat_minor": 0,
  "metadata": {
    "colab": {
      "name": "ocr.ipynb",
      "provenance": [],
      "authorship_tag": "ABX9TyN/L/X5zxJjXrDF8Oj3mkDY",
      "include_colab_link": true
    },
    "kernelspec": {
      "name": "python3",
      "display_name": "Python 3"
    },
    "language_info": {
      "name": "python"
    }
  },
  "cells": [
    {
      "cell_type": "markdown",
      "metadata": {
        "id": "view-in-github",
        "colab_type": "text"
      },
      "source": [
        "<a href=\"https://colab.research.google.com/github/josechudev/is-it-veggie/blob/main/notebooks/ocr.ipynb\" target=\"_parent\"><img src=\"https://colab.research.google.com/assets/colab-badge.svg\" alt=\"Open In Colab\"/></a>"
      ]
    },
    {
      "cell_type": "code",
      "source": [
        "!sudo apt install tesseract-ocr\n",
        "\n",
        "!pip install pytesseract"
      ],
      "metadata": {
        "id": "PzfZm0n0OYld"
      },
      "execution_count": null,
      "outputs": []
    },
    {
      "cell_type": "code",
      "source": [
        "import pytesseract\n",
        "\n",
        "import shutil\n",
        "\n",
        "import os\n",
        "\n",
        "import random\n",
        "\n",
        "import pandas as pd\n",
        "\n",
        "import glob\n",
        "\n",
        "try:\n",
        "\n",
        "  from PIL import Image\n",
        "\n",
        "except ImportError:\n",
        "\n",
        "  import Image"
      ],
      "metadata": {
        "id": "wKCCUZOFP5Tj"
      },
      "execution_count": 1,
      "outputs": []
    },
    {
      "cell_type": "code",
      "source": [
        "from google.colab import files\n",
        "\n",
        "uploaded = files.upload()\n"
      ],
      "metadata": {
        "colab": {
          "resources": {
            "http://localhost:8080/nbextensions/google.colab/files.js": {
              "data": "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",
              "ok": true,
              "headers": [
                [
                  "content-type",
                  "application/javascript"
                ]
              ],
              "status": 200,
              "status_text": ""
            }
          },
          "base_uri": "https://localhost:8080/",
          "height": 39
        },
        "id": "8ec7LqtJP7z7",
        "outputId": "9ae9fad7-e041-489c-c301-1d6e20783362"
      },
      "execution_count": 2,
      "outputs": [
        {
          "output_type": "display_data",
          "data": {
            "text/html": [
              "\n",
              "     <input type=\"file\" id=\"files-e7aa68af-5d81-4786-a8a1-81be2182350d\" name=\"files[]\" multiple disabled\n",
              "        style=\"border:none\" />\n",
              "     <output id=\"result-e7aa68af-5d81-4786-a8a1-81be2182350d\">\n",
              "      Upload widget is only available when the cell has been executed in the\n",
              "      current browser session. Please rerun this cell to enable.\n",
              "      </output>\n",
              "      <script src=\"/nbextensions/google.colab/files.js\"></script> "
            ],
            "text/plain": [
              "<IPython.core.display.HTML object>"
            ]
          },
          "metadata": {}
        }
      ]
    },
    {
      "cell_type": "code",
      "source": [
        "image_path = 'data/images/img_1.jpeg'\n",
        "\n",
        "extractedInformation = pytesseract.image_to_string(Image.open(image_path))"
      ],
      "metadata": {
        "id": "_4kZ84QRQL4h"
      },
      "execution_count": 3,
      "outputs": []
    },
    {
      "cell_type": "code",
      "source": [
        "extractedInformation"
      ],
      "metadata": {
        "colab": {
          "base_uri": "https://localhost:8080/",
          "height": 71
        },
        "id": "Yoh_2v5CTja2",
        "outputId": "0077e253-df27-4c23-9876-3628bbb94b06"
      },
      "execution_count": 4,
      "outputs": [
        {
          "output_type": "execute_result",
          "data": {
            "application/vnd.google.colaboratory.intrinsic+json": {
              "type": "string"
            },
            "text/plain": [
              "'INGREDIENTS: Ervched unbleached |\\nflour (wheat flour, malted barley flour,\\nascorbic acid [dough conditioner, niacin,\\nfeduced iron, thiamin mononitrate,\\nriboflavin, folic acid), suger, degermed\\nyellow cornmeal, salt, leavening [bakin\\n\\nsoda, sodium acid —pyrophos ett\\nsoybean ol, honey powder, natural flavor,\\n\\nCONTAINS: Wheat.\\n\\nMay contain milk, eggs, soy and tree nuts.\\ni\\n\\n \\n\\x0c'"
            ]
          },
          "metadata": {},
          "execution_count": 4
        }
      ]
    },
    {
      "cell_type": "code",
      "source": [
        "glob.glob('data/images/*')"
      ],
      "metadata": {
        "colab": {
          "base_uri": "https://localhost:8080/"
        },
        "id": "T-MiWgdIX9yC",
        "outputId": "a0e9ab5f-d1d1-4324-b453-d1ab90f65a12"
      },
      "execution_count": 9,
      "outputs": [
        {
          "output_type": "execute_result",
          "data": {
            "text/plain": [
              "['data/images/img_8.jpeg',\n",
              " 'data/images/img_2.jpeg',\n",
              " 'data/images/img_7.jpeg',\n",
              " 'data/images/img_10.jpeg',\n",
              " 'data/images/img_6.jpeg',\n",
              " 'data/images/img_1.jpeg',\n",
              " 'data/images/img_4.jpeg',\n",
              " 'data/images/img_3.jpeg',\n",
              " 'data/images/img_9.jpeg']"
            ]
          },
          "metadata": {},
          "execution_count": 9
        }
      ]
    },
    {
      "cell_type": "code",
      "source": [
        "d = {}\n",
        "for img_path in glob.glob('data/images/*'):\n",
        "    filename = img_path.split(\"/\")[-1]\n",
        "    d[filename] = pytesseract.image_to_string(Image.open(img_path))"
      ],
      "metadata": {
        "id": "9bUC38HiYPmb"
      },
      "execution_count": 10,
      "outputs": []
    },
    {
      "cell_type": "code",
      "source": [
        "d"
      ],
      "metadata": {
        "colab": {
          "base_uri": "https://localhost:8080/"
        },
        "id": "F7Q_SMOvo8ra",
        "outputId": "07f699c8-9a0c-4df0-8e90-77fa53994f16"
      },
      "execution_count": 11,
      "outputs": [
        {
          "output_type": "execute_result",
          "data": {
            "text/plain": [
              "{'img_1.jpeg': 'INGREDIENTS: Ervched unbleached |\\nflour (wheat flour, malted barley flour,\\nascorbic acid [dough conditioner, niacin,\\nfeduced iron, thiamin mononitrate,\\nriboflavin, folic acid), suger, degermed\\nyellow cornmeal, salt, leavening [bakin\\n\\nsoda, sodium acid —pyrophos ett\\nsoybean ol, honey powder, natural flavor,\\n\\nCONTAINS: Wheat.\\n\\nMay contain milk, eggs, soy and tree nuts.\\ni\\n\\n \\n\\x0c',\n",
              " 'img_10.jpeg': 'INGREDIENTS: ENRICHED MACARONI PRODUCT (WHEAT\\nFLOUR, NIACIN, FERROUS SULFATE [IRON], THIAMIN:\\nMONONITRATE [VITAMIN 81], RIBOFLAVIN [VITAMIN B2],\\nFOLIC ACID); CHEESE SAUCE (MILK, WHEY, WATER, WHEY\\nPROTEIN CONCENTRATE, CANOLA OIL, MILK PROTEIN:\\nCONCENTRATE, SODIUM PHOSPHATE, SALT, CONTAINS LESS\\nTHAN 2% OF LACTIC ACID, SODIUM ALGINATE, SORBIC ACID\\nASA PRESERVATIVE, OLEORESIN PAPRIKA | ea\\nCOLOR, NATURAL FLAVOR, CHEESE CULTURE,\\n\\n‘CONTAINS: WHEAT, MILK.\\n\\x0c',\n",
              " 'img_2.jpeg': ' \\n\\n|\\nIngredients: Corn flour, sugar, peanut butter\\n(peanuts, dextrose, hydrogenated vegetable oil\\n\\\\cottonseed and rapeseed oil]**, salt), oat\\nMlour, rice flour, coconut ol, salt, caramel color\\nniacinamide*, reduced iron, zine oxide, BHT (a\\nPreservative), thiamin mononitrate* pyridoxine\\nhydrochloride*, riboflavin*, folic acid’\\n\\n“One of the B vitamins\\n\\n*“Adds a dietarity insignificant amount of trans fat\\nCONTAINS PEANUT INGREDIENTS.\\n\\n \\n\\x0c',\n",
              " 'img_3.jpeg': '    \\n\\nCalories per gram: Fat 9 = Carbohydrate 4\\n\\nUWGREDIENTS: RICE, SUGAR, WHOLE WHEAT, RAISINS,\\nCLUSTER (WHOLE OATS, SUGAR, WHOLE GRAIN WHE\\nRICE CEREAL ie SUGAR, SALT, HIGH FRUGTOS!\\nMALT FLAVORING, IRON, ASCORBIC ACID (VITAMIN G\\nPYRIDOXINE HYDROCHLORIDE (VITAMIN Be), RIBOF\\nBg), THIAMIN HYDROCHLORIDE (VITAMIN B:), VITAM!\\nFOLIC ACID, VITAMIN Bo AND VITAMIN D}, MODIFIE\\nMOLASSES. PALM OIL. HIGH FRUCTOSE CORN cya\\n\\n  \\n   \\n \\n\\x0c',\n",
              " 'img_4.jpeg': 'Ingredients\\nWhol wt ice (20%), sugar salt barley malt\\nextract, vitamins (vitamin C, niacin, riboflavin, thiamin,\\nfolate), minerals (iron, zinc oxide),\\n\\nCONTAINS GLUTEN GONTAINING CEREALS. MAY\\nCONTAIN TRACES OF PEANUTS AND/OR TREE NUTS\\nINGREDIENTS: Riz bla enti (90%), scr, sel\\n‘tat se malt srg, vitamines(vtamineC\\n\\nnici, ribtavne thiamin, flat, minéraux et,\\noxyde de zn)\\n\\nCONTIENT GLUTEN CONTENIR LES CEREALES.\\n\\nPEUT CONTENIR DES TRACES DE CACAHUETES\\n\\n(EVOU HOLE eS:\\n\\x0c',\n",
              " 'img_6.jpeg': '‘INGREDIENTS: ENRICHED FLOUR (WHEAT FLOUR, NIACIN, REDUCED\\n3A UAC TA) Ar A\\nFUE ADD), CORN SYRUP, USA, SOYBEAN AND PALM OM TH\\noR FRESHESS), CORN SYRUP SOUDS, DEXTROSE iG FRUCTOSE\\nofa SYRUP FRUCTOSE, GLYCERIN, CONTANS 2 OR LESS OF C00\\n(PROCESSED WT ALL), PYDEXTROSE, MODE ORY STR, SA\\nDRED CREAM, CALC CARSONATE,CORITARCH, LEAVING\\n\\n‘SODA. SODWM AIO PYROPIOSPATE, MONOCALGM PHOSPHATE,\\nCALC SULFATE, OSTLLED MONOLYGRDES,HYOROGEMTED PALA\\nERE OL, SOD STAOM. ACTA, EAT CQOR ADDED SOY\\nEDT, CAEN, NATURA_ANOAATIAGAL FLAVOR WANA XACT,\\nCARNAL Wa, THANG TAM A PALMA, ELOW 5 AE,\\naD 4) LAE, CARAMEL COLOR, NACIAMIDE BLUE 72 ARE REDOED\\nRON YELLOW 6 LIKE, PRONE HIORDCLORDE (TAN), RED-\\nAN (TAM TN ORODHLORDE TAMA), TCA,\\nFOU ASD, RED #42 YELLOW #5, YELLOW #6, BLUE 2, BLUE #1.\\n\\n   \\n\\x0c',\n",
              " 'img_7.jpeg': 'INGREDIENTS: ENRICHED FLOUR (WHEAT FLOUR,\\nNACIN, REDUCED IRON, THAMIN, MONOMITBATE\\nBi], RBOFLAVIN IMITAMIN BZ), FOLIC ACID),\\nNEBL OL (PARTIALLY HYDROGENATED\\n\\nPALM) KERNEL AND/OR COTTONSEED OIL, SOYBEAN\\nAND PALM OIL, COCOA, CARAMEL COLOR, CONTAINS\\nWo! ‘OFLESS OF COCOA PROCESSED WITH\\n\\n‘CONTAINS WHEAT, MILK AND SOY INGREDIENTS.\\n\\x0c',\n",
              " 'img_8.jpeg': ' \\n\\n \\n\\n‘TalFatLessthan 65g Oy\\nSe site ay\\nSoar Lester 20th EA\\n‘al Caotytay 300g 25g\\nCeayfte yp\\n\\nGries per ran Fa 9 Caro 4» Pin 4\\n\\nINGREDIENTS: FILLING (HGH FRUCTOSE CORN\\n‘SYRUP, CORN SYRUP. STRANBERRY PUREE CON-\\nCENTRATE, GLYCERIN, SUGAR, MODIRED CORN\\nSTARCH, SODA CTRAE, CITRIC ACID, SODIUM\\n‘AGIA, MATURAL AND ART STRAWBERRY\\nFAVOR, DICALCUM PHOSPHATE MODIFIED CEL-\\nLULOS, CARANEL COLOR MALG ACI, RED 40,\\nENRCHED FLOUR (WHEAT FLOUR, NACINANDE,\\nEDUGED RON, THANG MONONTRATE (TAM\\ngona NB) FOU AID), WHOLE\\n\\nOa, HGH FRUC-\\n‘tRecO Su Coats wo Pec\\nLESS OF HONEY CAM CARBONATE, DEXTROSE,\\nOWA RY MUX HEA BRAN SAT, CELLULOSE,\\nPOTASSIUM BICARBONATE (EAVES), ATURAL\\nAND ARTIFIAL FLAVOR, MONO AND DISYCER-\\nIDES, PROPYLENE GLYCOL ESTERS OF ATT ADDS,\\nOY LEGITHIN, WHEAT GLUTEN, CORNSTARDH,\\nVITAMIN A PALATE, GARRAGEENAN, NACA:\\nMg, SODIUM STEROYL LACTYLATE, GUAR GM,\\n‘DNC One, REDUCED RO, PYRIDINE HYORO™\\nCLORDE {TANI B), THIAMIN HYDRODHLO\\n‘REAM TI FE\\n\\n \\n\\n[CONTAINS WHEAT, MILK AND SOY INGREDIENTS.\\n\\n \\n\\x0c',\n",
              " 'img_9.jpeg': 'INGREDIENTS: ENRICHED FLOUR (WHEAT FLOUR,\\nNACIN, REDUCED IRON, THAMIN, MONOMITBATE\\nBi], RBOFLAVIN IMITAMIN BZ), FOLIC ACID),\\nNEBL OL (PARTIALLY HYDROGENATED\\n\\nPALM) KERNEL AND/OR COTTONSEED OIL, SOYBEAN\\nAND PALM OIL, COCOA, CARAMEL COLOR, CONTAINS\\nWo! ‘OFLESS OF COCOA PROCESSED WITH\\n\\n‘CONTAINS WHEAT, MILK AND SOY INGREDIENTS.\\n\\x0c'}"
            ]
          },
          "metadata": {},
          "execution_count": 11
        }
      ]
    },
    {
      "cell_type": "code",
      "source": [
        "text_from_images = pd.DataFrame.from_dict(d, orient='index', columns=[\"text\"])"
      ],
      "metadata": {
        "id": "MHrhgiOhpDC0"
      },
      "execution_count": 21,
      "outputs": []
    },
    {
      "cell_type": "code",
      "source": [
        "text_from_images.to_csv(\"data/raw/text_from_images.csv\", sep=';')"
      ],
      "metadata": {
        "id": "S21M8p4uzYcT"
      },
      "execution_count": 23,
      "outputs": []
    },
    {
      "cell_type": "code",
      "source": [
        ""
      ],
      "metadata": {
        "id": "P6AEJWyuzaaB"
      },
      "execution_count": null,
      "outputs": []
    }
  ]
}